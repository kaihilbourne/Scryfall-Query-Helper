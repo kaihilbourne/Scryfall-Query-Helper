{
 "cells": [
  {
   "cell_type": "code",
   "execution_count": 1,
   "metadata": {},
   "outputs": [],
   "source": [
    "from openai import OpenAI\n",
    "from dotenv import load_dotenv\n",
    "import os\n",
    "\n",
    "load_dotenv(encoding='utf8')\n",
    "\n",
    "api_key = os.getenv(\"OPENAI_API_KEY\")\n",
    "\n",
    "client = OpenAI(api_key=api_key)"
   ]
  },
  {
   "cell_type": "code",
   "execution_count": 14,
   "metadata": {},
   "outputs": [],
   "source": [
    "role_description = \"\"\n",
    "with open('RoleDescription.txt') as file:\n",
    "    role_description = file.read()"
   ]
  },
  {
   "cell_type": "code",
   "execution_count": 15,
   "metadata": {},
   "outputs": [],
   "source": [
    "queries = []\n",
    "with open(\"TestQueries.txt\") as file:\n",
    "    queries = file.read().split('\\n')"
   ]
  },
  {
   "cell_type": "code",
   "execution_count": 4,
   "metadata": {},
   "outputs": [],
   "source": [
    "model = \"gpt-3.5-turbo-0125\"\n",
    "# model = \"gpt-3.5-turbo\"\n",
    "# #####model = \"gpt-4\" DO NOT USE ... TOO EXPENSIVE ... NOT SIGNIFICANTLY BETTER"
   ]
  },
  {
   "cell_type": "code",
   "execution_count": 5,
   "metadata": {},
   "outputs": [],
   "source": [
    "def search_query(query,role):\n",
    "    completion = client.chat.completions.create(\n",
    "    model=model,\n",
    "    messages=[\n",
    "        {\"role\": \"system\", \"content\": role},\n",
    "        {\"role\": \"user\", \"content\": query}\n",
    "    ]\n",
    "    )\n",
    "    return completion.choices[0].message.content"
   ]
  },
  {
   "cell_type": "code",
   "execution_count": 6,
   "metadata": {},
   "outputs": [],
   "source": [
    "def try_one(query_,role):\n",
    "    return({'query':query_,'result':search_query(query_,role)})"
   ]
  },
  {
   "cell_type": "code",
   "execution_count": 9,
   "metadata": {},
   "outputs": [
    {
     "name": "stdout",
     "output_type": "stream",
     "text": [
      "set:LCI c:r usd>2\n"
     ]
    }
   ],
   "source": [
    "a = try_one(\"Give me red cards from lost caverns of ixalan that cost more than 2 dollars\",role_description)\n",
    "print(a['result'])"
   ]
  },
  {
   "cell_type": "code",
   "execution_count": 11,
   "metadata": {},
   "outputs": [],
   "source": [
    "def try_a_bunch(queries_,role):\n",
    "    results = []\n",
    "    for q in queries_:\n",
    "        results.append({'query':q,'result':search_query(q,role)})\n",
    "    return results"
   ]
  },
  {
   "cell_type": "code",
   "execution_count": 16,
   "metadata": {},
   "outputs": [],
   "source": [
    "answer_dict = try_a_bunch(queries,role_description)"
   ]
  },
  {
   "cell_type": "code",
   "execution_count": 17,
   "metadata": {},
   "outputs": [
    {
     "name": "stdout",
     "output_type": "stream",
     "text": [
      "===============\n",
      "Query: Please give me red cards that can destroy lands\n",
      "Answer: o:\"destroy target land\" c:r\n",
      "===============\n",
      "Query: red extra combat\n",
      "Answer: o:\"extra combat\" c:r\n",
      "===============\n",
      "Query: red instants and sorceries that give extra combat\n",
      "Answer: o:\"extra combat\" t:instant or o:\"extra combat\" t:sorcery c:r\n",
      "===============\n",
      "Query: counterspells\n",
      "Answer: o:\"counter target spell\"\n",
      "===============\n",
      "Query: ramp spells\n",
      "Answer: o:search your library for a basic land card, put it onto the battlefield tapped, then shuffle your library or o:add X mana in any combination of colors, where X is the number of basic land types among lands you control.\n",
      "===============\n",
      "Query: non-green manadorks\n",
      "Answer: c!g t:creature o:{\"{T}: Add\"} -c:g\n",
      "===============\n",
      "Query: artifacts for my jeskai commander deck\n",
      "Answer: c:wur t:artifact game:paper\n",
      "===============\n",
      "Query: destroy all lands\n",
      "Answer: o:\"destroy all lands\"\n",
      "===============\n",
      "Query: cards over 200 usd\n",
      "Answer: usd>200\n"
     ]
    }
   ],
   "source": [
    "for q in answer_dict:\n",
    "    print('===============')\n",
    "    print('Query:',q['query'])\n",
    "    print('Answer:',q['result'])"
   ]
  },
  {
   "cell_type": "code",
   "execution_count": null,
   "metadata": {},
   "outputs": [],
   "source": []
  }
 ],
 "metadata": {
  "kernelspec": {
   "display_name": "Python 3",
   "language": "python",
   "name": "python3"
  },
  "language_info": {
   "codemirror_mode": {
    "name": "ipython",
    "version": 3
   },
   "file_extension": ".py",
   "mimetype": "text/x-python",
   "name": "python",
   "nbconvert_exporter": "python",
   "pygments_lexer": "ipython3",
   "version": "3.11.0"
  }
 },
 "nbformat": 4,
 "nbformat_minor": 2
}
