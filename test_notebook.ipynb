{
 "cells": [
  {
   "cell_type": "code",
   "execution_count": 1,
   "metadata": {},
   "outputs": [],
   "source": [
    "from openai import OpenAI\n",
    "from dotenv import load_dotenv\n",
    "import os\n",
    "\n",
    "load_dotenv(encoding='utf8')\n",
    "\n",
    "api_key = os.getenv(\"OPENAI_API_KEY\")\n",
    "\n",
    "client = OpenAI(api_key=api_key)"
   ]
  },
  {
   "cell_type": "code",
   "execution_count": 19,
   "metadata": {},
   "outputs": [],
   "source": [
    "role_description = \"\"\n",
    "with open('RoleDescription.txt') as file:\n",
    "    role_description = file.read()"
   ]
  },
  {
   "cell_type": "code",
   "execution_count": 23,
   "metadata": {},
   "outputs": [],
   "source": [
    "queries = []\n",
    "with open(\"TestQueries.txt\") as file:\n",
    "    queries = file.read().split('\\n')"
   ]
  },
  {
   "cell_type": "code",
   "execution_count": 20,
   "metadata": {},
   "outputs": [],
   "source": [
    "model = \"gpt-3.5-turbo-0125\"\n",
    "# model = \"gpt-3.5-turbo\"\n",
    "# #####model = \"gpt-4\" DO NOT USE ... TOO EXPENSIVE ... NOT SIGNIFICANTLY BETTER"
   ]
  },
  {
   "cell_type": "code",
   "execution_count": 25,
   "metadata": {},
   "outputs": [],
   "source": [
    "def search_query(query,role):\n",
    "    completion = client.chat.completions.create(\n",
    "    model=model,\n",
    "    messages=[\n",
    "        {\"role\": \"system\", \"content\": role},\n",
    "        {\"role\": \"user\", \"content\": query}\n",
    "    ]\n",
    "    )\n",
    "    return completion.choices[0].message.content"
   ]
  },
  {
   "cell_type": "code",
   "execution_count": 24,
   "metadata": {},
   "outputs": [],
   "source": [
    "def try_a_bunch(queries_,role):\n",
    "    results = []\n",
    "    for q in queries_:\n",
    "        results.append({'query':q,'result':search_query(q,role)})\n",
    "    return results"
   ]
  },
  {
   "cell_type": "code",
   "execution_count": 26,
   "metadata": {},
   "outputs": [
    {
     "name": "stdout",
     "output_type": "stream",
     "text": [
      "[{'query': 'Please give me red cards that can destroy lands\\n', 'result': 'o:destroy o:land c:r'}, {'query': 'red extra combat\\n', 'result': 'o:extra t:instant or o:extra t:sorcery c:r'}, {'query': 'red instants and sorceries that give extra combat\\n', 'result': 'o:red o:combat o:extra t:instant OR t:sorcery'}, {'query': 'counterspells\\n', 'result': 'o:counterspell\\n'}, {'query': 'ramp spells\\n', 'result': \"o:ramp o:search o:land o:rampage o:manapool o:growth o:accelerate o:cultivate o:kodama's_reach o:farseek o:rampant_growth o:explosive_vegetation o:circuitous_route o:sakura-tribe_elder o:wood_elves o:solemn_simulacrum o:thran_dynamo o:exploration o:birds_of_paradise o:llanowar_elves o:fyndhorn_elves o:elvish_mystic o:arbor_elf o:noble_hierarch o:lotus_petals o:mana_vault o:thran_turbine o:sol_ring o:commander_sphinx o:mana_crypt o:chromatic_lantern\"}, {'query': 'non-green manadorks\\n', 'result': 'c! You can search for \"c! c!-g t:creature o:add o:mana\" to find non-green mana-producing creatures.'}, {'query': 'artifacts for my jeskai commander deck\\n', 'result': 't:artifact id:uw;r'}, {'query': 'destroy all lands\\n', 'result': 'o:destroy o:land'}, {'query': 'funny cards\\n', 'result': 'o:funny o:flavor o:joke o:dice o:chaosとう'}, {'query': 'cards over 200 usd', 'result': 'Farewell\\nSearch: usd>200\\n\\n'}]\n"
     ]
    }
   ],
   "source": [
    "answer_dict = try_a_bunch(queries,role_description)\n",
    "print(answer_dict)"
   ]
  },
  {
   "cell_type": "code",
   "execution_count": 29,
   "metadata": {},
   "outputs": [
    {
     "name": "stdout",
     "output_type": "stream",
     "text": [
      "===============\n",
      "Query: Please give me red cards that can destroy lands\n",
      "\n",
      "Answer: o:destroy o:land c:r\n",
      "===============\n",
      "Query: red extra combat\n",
      "\n",
      "Answer: o:extra t:instant or o:extra t:sorcery c:r\n",
      "===============\n",
      "Query: red instants and sorceries that give extra combat\n",
      "\n",
      "Answer: o:red o:combat o:extra t:instant OR t:sorcery\n",
      "===============\n",
      "Query: counterspells\n",
      "\n",
      "Answer: o:counterspell\n",
      "\n",
      "===============\n",
      "Query: ramp spells\n",
      "\n",
      "Answer: o:ramp o:search o:land o:rampage o:manapool o:growth o:accelerate o:cultivate o:kodama's_reach o:farseek o:rampant_growth o:explosive_vegetation o:circuitous_route o:sakura-tribe_elder o:wood_elves o:solemn_simulacrum o:thran_dynamo o:exploration o:birds_of_paradise o:llanowar_elves o:fyndhorn_elves o:elvish_mystic o:arbor_elf o:noble_hierarch o:lotus_petals o:mana_vault o:thran_turbine o:sol_ring o:commander_sphinx o:mana_crypt o:chromatic_lantern\n",
      "===============\n",
      "Query: non-green manadorks\n",
      "\n",
      "Answer: c! You can search for \"c! c!-g t:creature o:add o:mana\" to find non-green mana-producing creatures.\n",
      "===============\n",
      "Query: artifacts for my jeskai commander deck\n",
      "\n",
      "Answer: t:artifact id:uw;r\n",
      "===============\n",
      "Query: destroy all lands\n",
      "\n",
      "Answer: o:destroy o:land\n",
      "===============\n",
      "Query: funny cards\n",
      "\n",
      "Answer: o:funny o:flavor o:joke o:dice o:chaosとう\n",
      "===============\n",
      "Query: cards over 200 usd\n",
      "Answer: Farewell\n",
      "Search: usd>200\n",
      "\n",
      "\n"
     ]
    }
   ],
   "source": [
    "for q in answer_dict:\n",
    "    print('===============')\n",
    "    print('Query:',q['query'])\n",
    "    print('Answer:',q['result'])"
   ]
  }
 ],
 "metadata": {
  "kernelspec": {
   "display_name": "Python 3",
   "language": "python",
   "name": "python3"
  },
  "language_info": {
   "codemirror_mode": {
    "name": "ipython",
    "version": 3
   },
   "file_extension": ".py",
   "mimetype": "text/x-python",
   "name": "python",
   "nbconvert_exporter": "python",
   "pygments_lexer": "ipython3",
   "version": "3.11.0"
  }
 },
 "nbformat": 4,
 "nbformat_minor": 2
}
